{
 "cells": [
  {
   "cell_type": "code",
   "execution_count": 1,
   "metadata": {},
   "outputs": [],
   "source": [
    "\n",
    "import csv, math\n",
    "from matplotlib import pyplot as plt \n",
    "import numpy as np "
   ]
  },
  {
   "cell_type": "code",
   "execution_count": 2,
   "metadata": {},
   "outputs": [],
   "source": [
    "# csv file headers\n",
    "numCount_header = \"Number Count\"\n",
    "numIterations_header = \"Num of Iterations\"\n",
    "avgTime_header= \"Average Time\"\n",
    "stdTime_header= \"Std\"\n",
    "\n",
    "csvHeaders = [numCount_header, numIterations_header, avgTime_header, stdTime_header]"
   ]
  },
  {
   "cell_type": "code",
   "execution_count": 3,
   "metadata": {},
   "outputs": [
    {
     "name": "stdout",
     "output_type": "stream",
     "text": [
      "{'Number Count': array([ 10000.,  20000.,  30000.,  40000.,  50000.,  60000.,  70000.,\n",
      "        80000.,  90000., 100000., 110000., 120000., 130000., 140000.,\n",
      "       150000., 160000., 170000., 180000., 190000., 200000., 210000.,\n",
      "       220000., 230000., 240000., 250000., 260000., 270000., 280000.,\n",
      "       290000., 300000., 310000., 320000., 330000., 340000., 350000.,\n",
      "       360000., 370000., 380000., 390000., 400000., 410000., 420000.,\n",
      "       430000., 440000., 450000., 460000., 470000., 480000., 490000.]), 'Num of Iterations': array([10., 10., 10., 10., 10., 10., 10., 10., 10., 10., 10., 10., 10.,\n",
      "       10., 10., 10., 10., 10., 10., 10., 10., 10., 10., 10., 10., 10.,\n",
      "       10., 10., 10., 10., 10., 10., 10., 10., 10., 10., 10., 10., 10.,\n",
      "       10., 10., 10., 10., 10., 10., 10., 10., 10., 10.]), 'Average Time': array([7.502e-03, 2.219e-02, 4.469e-02, 7.182e-02, 1.064e-01, 1.473e-01,\n",
      "       1.962e-01, 2.529e-01, 3.155e-01, 3.838e-01, 4.614e-01, 5.479e-01,\n",
      "       6.417e-01, 7.422e-01, 8.482e-01, 9.616e-01, 1.081e+00, 1.208e+00,\n",
      "       1.342e+00, 1.484e+00, 1.632e+00, 1.786e+00, 1.946e+00, 2.113e+00,\n",
      "       2.283e+00, 2.462e+00, 2.693e+00, 2.887e+00, 3.088e+00, 3.301e+00,\n",
      "       3.518e+00, 3.741e+00, 3.969e+00, 4.204e+00, 4.444e+00, 4.691e+00,\n",
      "       4.943e+00, 5.203e+00, 5.472e+00, 5.745e+00, 6.031e+00, 6.312e+00,\n",
      "       6.607e+00, 6.909e+00, 7.209e+00, 7.522e+00, 7.841e+00, 8.169e+00,\n",
      "       8.503e+00]), 'Std': array([5.470e-05, 7.709e-05, 2.601e-03, 2.287e-04, 9.780e-05, 2.013e-04,\n",
      "       7.250e-04, 1.446e-03, 1.698e-03, 4.889e-04, 5.808e-04, 5.747e-04,\n",
      "       1.290e-03, 7.286e-04, 1.242e-03, 6.298e-04, 2.401e-04, 8.220e-04,\n",
      "       4.032e-04, 5.949e-04, 9.829e-04, 1.513e-03, 1.534e-03, 2.221e-03,\n",
      "       1.717e-03, 8.906e-04, 3.918e-03, 1.322e-03, 2.654e-03, 2.688e-03,\n",
      "       3.128e-03, 2.672e-03, 3.157e-03, 2.475e-03, 3.695e-03, 2.979e-03,\n",
      "       1.777e-03, 1.139e-03, 3.061e-03, 2.662e-03, 3.901e-03, 2.429e-03,\n",
      "       4.420e-03, 6.983e-03, 2.661e-03, 3.549e-03, 3.050e-03, 6.761e-03,\n",
      "       7.111e-03])}\n"
     ]
    }
   ],
   "source": [
    "# raspi data\n",
    "\n",
    "data_raspi = {header:[] for header in csvHeaders}\n",
    "with open('raspberry-pi/py3-fibotest-rpi4.csv') as csvFile:\n",
    "    csvReader = csv.DictReader(csvFile)\n",
    "    for row in csvReader:\n",
    "        for header in csvHeaders:\n",
    "            data_raspi[header].append(float(row[header]))\n",
    "\n",
    "for header in csvHeaders:\n",
    "    data_raspi[header] = np.array(data_raspi[header])\n",
    "\n",
    "print(data_raspi)"
   ]
  },
  {
   "cell_type": "code",
   "execution_count": 4,
   "metadata": {},
   "outputs": [
    {
     "name": "stdout",
     "output_type": "stream",
     "text": [
      "{'Number Count': array([ 10000.,  20000.,  30000.,  40000.,  50000.,  60000.,  70000.,\n",
      "        80000.,  90000., 100000., 110000., 120000., 130000., 140000.,\n",
      "       150000., 160000., 170000., 180000., 190000., 200000., 210000.,\n",
      "       220000., 230000., 240000., 250000., 260000., 270000., 280000.,\n",
      "       290000., 300000., 310000., 320000., 330000., 340000., 350000.,\n",
      "       360000., 370000., 380000., 390000., 400000., 410000., 420000.,\n",
      "       430000., 440000., 450000., 460000., 470000., 480000., 490000.]), 'Num of Iterations': array([10., 10., 10., 10., 10., 10., 10., 10., 10., 10., 10., 10., 10.,\n",
      "       10., 10., 10., 10., 10., 10., 10., 10., 10., 10., 10., 10., 10.,\n",
      "       10., 10., 10., 10., 10., 10., 10., 10., 10., 10., 10., 10., 10.,\n",
      "       10., 10., 10., 10., 10., 10., 10., 10., 10., 10.]), 'Average Time': array([0.003022, 0.007311, 0.01496 , 0.02196 , 0.03222 , 0.04526 ,\n",
      "       0.05814 , 0.07452 , 0.09111 , 0.1116  , 0.1321  , 0.1579  ,\n",
      "       0.1823  , 0.2104  , 0.2393  , 0.2711  , 0.3051  , 0.3386  ,\n",
      "       0.3768  , 0.4147  , 0.4579  , 0.4988  , 0.5451  , 0.5903  ,\n",
      "       0.6408  , 0.6945  , 0.7439  , 0.7996  , 0.8566  , 0.915   ,\n",
      "       0.9741  , 1.039   , 1.1     , 1.166   , 1.234   , 1.304   ,\n",
      "       1.376   , 1.451   , 1.527   , 1.601   , 1.684   , 1.763   ,\n",
      "       1.845   , 1.933   , 2.017   , 2.108   , 2.201   , 2.287   ,\n",
      "       2.384   ]), 'Std': array([0.0002336, 0.0003554, 0.002298 , 0.0001473, 0.0002993, 0.002531 ,\n",
      "       0.0004594, 0.002022 , 0.0002251, 0.002287 , 0.000159 , 0.004587 ,\n",
      "       0.002688 , 0.00372  , 0.004066 , 0.004013 , 0.005297 , 0.002659 ,\n",
      "       0.007931 , 0.005085 , 0.008509 , 0.004453 , 0.008808 , 0.007965 ,\n",
      "       0.009808 , 0.008957 , 0.004465 , 0.007985 , 0.006775 , 0.007461 ,\n",
      "       0.008998 , 0.01266  , 0.006419 , 0.008211 , 0.007844 , 0.009652 ,\n",
      "       0.01107  , 0.01051  , 0.009905 , 0.007673 , 0.01255  , 0.009261 ,\n",
      "       0.01078  , 0.01126  , 0.008862 , 0.01097  , 0.01119  , 0.01059  ,\n",
      "       0.01577  ])}\n"
     ]
    }
   ],
   "source": [
    "# udoo bolt data\n",
    "\n",
    "data_udoobolt = {header:[] for header in csvHeaders}\n",
    "with open('udoo-bolt/py3-fibotest-boltv3.csv') as csvFile:\n",
    "    csvReader = csv.DictReader(csvFile)\n",
    "    for row in csvReader:\n",
    "        for header in row:\n",
    "            data_udoobolt[header].append(float(row[header]))\n",
    "for header in csvHeaders:\n",
    "    data_udoobolt[header] = np.array(data_udoobolt[header])\n",
    "\n",
    "print(data_udoobolt)"
   ]
  },
  {
   "cell_type": "code",
   "execution_count": 12,
   "metadata": {},
   "outputs": [
    {
     "name": "stderr",
     "output_type": "stream",
     "text": [
      "<ipython-input-12-9260eed4a621>:20: UserWarning: Matplotlib is currently using module://ipykernel.pylab.backend_inline, which is a non-GUI backend, so cannot show the figure.\n",
      "  fig.show()\n"
     ]
    },
    {
     "data": {
      "image/png": "[encoded data removed]",
      "text/plain": [
       "<Figure size 432x432 with 1 Axes>"
      ]
     },
     "metadata": {},
     "output_type": "display_data"
    }
   ],
   "source": [
    "# plotter\n",
    "plt.style.use(\"ggplot\")\n",
    "fig = plt.figure(figsize=[6,6])\n",
    "\n",
    "axis = fig.add_subplot()\n",
    "#axis.title(\"Fibonacci Benchmark\")\n",
    "\n",
    "axis.errorbar(x=data_udoobolt[numCount_header], y=data_udoobolt[avgTime_header], yerr=data_udoobolt[stdTime_header], fmt='ro', markersize=3, label='UDOO BOLT V3')\n",
    "axis.errorbar(x=data_raspi[numCount_header], y=data_raspi[avgTime_header], yerr=data_raspi[stdTime_header], fmt='bo', markersize=3, label='Raspberry Pi 4B')\n",
    "\n",
    "#plt.xscale(\"log\")\n",
    "#plt.yscale(\"log\")\n",
    "axis.set_xlabel('Number of Fibonacci Numbers calculated')\n",
    "axis.set_ylabel('Run time ($s$)')\n",
    "legend= axis.legend()\n",
    "plt.setp(legend.get_texts(), color='k')\n",
    "\n",
    "axis.ticklabel_format(axis=\"x\", style=\"sci\", scilimits=(0,0), useMathText=True)\n",
    "\n",
    "fig.show()\n",
    "fig.savefig('fibonacci-test.pdf', facecolor=(0,0,0,0))"
   ]
  },
  {
   "cell_type": "code",
   "execution_count": null,
   "metadata": {},
   "outputs": [
    {
     "name": "stdout",
     "output_type": "stream",
     "text": [
      "Difference between results: Udoo_performance is better than Raspi_performance by a factor of (2.4825, 3.0352, 2.9873, 3.2705, 3.3023, 3.2545, 3.3746, 3.3937, 3.4628, 3.4391, 3.4928, 3.4699, 3.5200, 3.5276, 3.5445, 3.5470, 3.5431, 3.5676, 3.5616, 3.5785, 3.5641, 3.5806, 3.5700, 3.5795, 3.5627, 3.5450, 3.6201, 3.6106, 3.6049, 3.6077, 3.6115, 3.6006, 3.6082, 3.6055, 3.6013, 3.5974, 3.5923, 3.5858, 3.5835, 3.5884, 3.5814, 3.5803, 3.5810, 3.5742, 3.5741, 3.5683, 3.5625, 3.5719, 3.5667), avg=3.497 +- 0.199 \n"
     ]
    }
   ],
   "source": [
    "print(\"Difference between results: Udoo_performance is better than Raspi_performance by a factor of {}, avg={:.3f} +- {:.3f} \".format(\n",
    "    \"(\" + \", \".join(\"{:.4f}\".format(s) for s in 1/np.divide(data_udoobolt[avgTime_header], data_raspi[avgTime_header]))+ \")\"\n",
    "    , float(np.average(1/np.divide(data_udoobolt[avgTime_header], data_raspi[avgTime_header]))), \n",
    "    float(np.std(1/np.divide(data_udoobolt[avgTime_header], data_raspi[avgTime_header])))))"
   ]
  },
  {
   "cell_type": "code",
   "execution_count": null,
   "metadata": {},
   "outputs": [],
   "source": [
    "# export to latex\n",
    "# ..."
   ]
  }
 ],
 "metadata": {
  "interpreter": {
   "hash": "6d58817d7a36abfa3a827e4c983e24a2b2aeec7ad475bf8b9406aeab7b3302d2"
  },
  "kernelspec": {
   "display_name": "Python 3.8.3 32-bit",
   "name": "python3"
  },
  "language_info": {
   "codemirror_mode": {
    "name": "ipython",
    "version": 3
   },
   "file_extension": ".py",
   "mimetype": "text/x-python",
   "name": "python",
   "nbconvert_exporter": "python",
   "pygments_lexer": "ipython3",
   "version": "3.8.3"
  },
  "orig_nbformat": 2
 },
 "nbformat": 4,
 "nbformat_minor": 2
}
