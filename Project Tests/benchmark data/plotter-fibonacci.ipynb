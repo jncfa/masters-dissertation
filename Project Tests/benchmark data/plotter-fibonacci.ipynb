{
 "cells": [
  {
   "cell_type": "code",
   "execution_count": 4,
   "metadata": {},
   "outputs": [],
   "source": [
    "\n",
    "import csv, math\n",
    "from matplotlib import pyplot as plt \n",
    "import numpy as np "
   ]
  },
  {
   "cell_type": "code",
   "execution_count": 5,
   "metadata": {},
   "outputs": [],
   "source": [
    "# csv file headers\n",
    "numCount_header = \"Number Count\"\n",
    "numIterations_header = \"Num of Iterations\"\n",
    "avgTime_header= \"Average Time\"\n",
    "stdTime_header= \"Std\"\n",
    "\n",
    "csvHeaders = [numCount_header, numIterations_header, avgTime_header, stdTime_header]"
   ]
  },
  {
   "cell_type": "code",
   "execution_count": 6,
   "metadata": {},
   "outputs": [
    {
     "name": "stdout",
     "output_type": "stream",
     "text": [
      "{'Number Count': array([  1000.,   2000.,   5000.,  10000.,  20000.,  50000., 100000.,\n",
      "       200000., 500000.]), 'Num of Iterations': array([100., 100., 100., 100., 100., 100., 100., 100., 100.]), 'Average Time': array([4.324e-04, 9.500e-04, 2.880e-03, 7.700e-03, 2.306e-02, 1.092e-01,\n",
      "       4.104e-01, 1.487e+00, 8.782e+00]), 'Std': array([5.510e-05, 1.586e-05, 1.102e-05, 3.276e-05, 2.788e-04, 1.773e-03,\n",
      "       4.256e-02, 1.707e-03, 5.170e-02])}\n"
     ]
    }
   ],
   "source": [
    "# raspi data\n",
    "\n",
    "data_raspi = {header:[] for header in csvHeaders}\n",
    "with open('raspberry-pi/py3-fibotest-rpi4.csv') as csvFile:\n",
    "    csvReader = csv.DictReader(csvFile)\n",
    "    for row in csvReader:\n",
    "        for header in csvHeaders:\n",
    "            data_raspi[header].append(float(row[header]))\n",
    "\n",
    "for header in csvHeaders:\n",
    "    data_raspi[header] = np.array(data_raspi[header])\n",
    "\n",
    "print(data_raspi)"
   ]
  },
  {
   "cell_type": "code",
   "execution_count": 7,
   "metadata": {},
   "outputs": [
    {
     "name": "stdout",
     "output_type": "stream",
     "text": [
      "{'Number Count': array([  1000.,   2000.,   5000.,  10000.,  20000.,  50000., 100000.,\n",
      "       200000., 500000.]), 'Num of Iterations': array([100., 100., 100., 100., 100., 100., 100., 100., 100.]), 'Average Time': array([1.810e-04, 4.621e-04, 1.272e-03, 3.501e-03, 8.742e-03, 4.366e-02,\n",
      "       1.224e-01, 4.179e-01, 2.473e+00]), 'Std': array([3.762e-05, 8.352e-05, 2.545e-04, 6.526e-04, 1.776e-03, 6.448e-03,\n",
      "       1.899e-02, 5.182e-03, 5.315e-03])}\n"
     ]
    }
   ],
   "source": [
    "# udoo bolt data\n",
    "\n",
    "data_udoobolt = {header:[] for header in csvHeaders}\n",
    "with open('udoo-bolt/py3-fibotest-boltv3.csv') as csvFile:\n",
    "    csvReader = csv.DictReader(csvFile)\n",
    "    for row in csvReader:\n",
    "        for header in row:\n",
    "            data_udoobolt[header].append(float(row[header]))\n",
    "for header in csvHeaders:\n",
    "    data_udoobolt[header] = np.array(data_udoobolt[header])\n",
    "\n",
    "print(data_udoobolt)"
   ]
  },
  {
   "cell_type": "code",
   "execution_count": 8,
   "metadata": {},
   "outputs": [
    {
     "name": "stderr",
     "output_type": "stream",
     "text": [
      "<ipython-input-8-bf04dce0aa16>:16: UserWarning: Matplotlib is currently using module://ipykernel.pylab.backend_inline, which is a non-GUI backend, so cannot show the figure.\n",
      "  fig.show()\n"
     ]
    },
    {
     "data": {
      "image/png": "[encoded data removed]",
      "text/plain": [
       "<Figure size 432x432 with 1 Axes>"
      ]
     },
     "metadata": {},
     "output_type": "display_data"
    }
   ],
   "source": [
    "# plotter\n",
    "plt.style.use(\"ggplot\")\n",
    "fig = plt.figure(figsize=[6,6])\n",
    "\n",
    "axis = fig.add_subplot()\n",
    "#axis.title(\"Fibonacci Benchmark\")\n",
    "\n",
    "axis.errorbar(x=data_udoobolt[numCount_header], y=data_udoobolt[avgTime_header], yerr=data_udoobolt[stdTime_header], fmt='r^:', label='UDOO BOLT V3')\n",
    "axis.errorbar(x=data_raspi[numCount_header], y=data_raspi[avgTime_header], yerr=data_raspi[stdTime_header], fmt='b^:', label='Raspberry Pi 4B')\n",
    "#plt.xscale(\"log\")\n",
    "#plt.yscale(\"log\")\n",
    "axis.set_xlabel('Number of Fibonacci Numbers calculated')\n",
    "axis.set_ylabel('Run time ($s$)')\n",
    "axis.legend()\n",
    "\n",
    "fig.show()\n",
    "fig.savefig('fibo.pdf')"
   ]
  },
  {
   "cell_type": "code",
   "execution_count": 9,
   "metadata": {},
   "outputs": [
    {
     "name": "stdout",
     "output_type": "stream",
     "text": [
      "Difference between results: Udoo_performance is better than Raspi_performance by a factor of (2.3890, 2.0558, 2.2642, 2.1994, 2.6378, 2.5011, 3.3529, 3.5583, 3.5512), avg=2.723 +- 0.566 \n"
     ]
    }
   ],
   "source": [
    "print(\"Difference between results: Udoo_performance is better than Raspi_performance by a factor of {}, avg={:.3f} +- {:.3f} \".format(\n",
    "    \"(\" + \", \".join(\"{:.4f}\".format(s) for s in 1/np.divide(data_udoobolt[avgTime_header], data_raspi[avgTime_header]))+ \")\"\n",
    "    , float(np.average(1/np.divide(data_udoobolt[avgTime_header], data_raspi[avgTime_header]))), \n",
    "    float(np.std(1/np.divide(data_udoobolt[avgTime_header], data_raspi[avgTime_header])))))"
   ]
  },
  {
   "cell_type": "code",
   "execution_count": 10,
   "metadata": {},
   "outputs": [],
   "source": [
    "# export to latex\n",
    "# ..."
   ]
  }
 ],
 "metadata": {
  "interpreter": {
   "hash": "6d58817d7a36abfa3a827e4c983e24a2b2aeec7ad475bf8b9406aeab7b3302d2"
  },
  "kernelspec": {
   "display_name": "Python 3.8.3 32-bit",
   "name": "python3"
  },
  "language_info": {
   "codemirror_mode": {
    "name": "ipython",
    "version": 3
   },
   "file_extension": ".py",
   "mimetype": "text/x-python",
   "name": "python",
   "nbconvert_exporter": "python",
   "pygments_lexer": "ipython3",
   "version": "3.8.3"
  },
  "orig_nbformat": 2
 },
 "nbformat": 4,
 "nbformat_minor": 2
}
